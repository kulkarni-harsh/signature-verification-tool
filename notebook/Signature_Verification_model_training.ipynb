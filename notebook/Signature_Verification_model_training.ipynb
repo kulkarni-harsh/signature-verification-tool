{
  "cells": [
    {
      "cell_type": "markdown",
      "metadata": {},
      "source": [
        "#### This code was written and executed in Google Colab and the datasets are stored in Google Drive"
      ]
    },
    {
      "cell_type": "markdown",
      "metadata": {
        "id": "OTM1zz7TF0ZU"
      },
      "source": [
        "## Import Libraries"
      ]
    },
    {
      "cell_type": "code",
      "execution_count": 1,
      "metadata": {
        "id": "RnREwOiviid8"
      },
      "outputs": [],
      "source": [
        "## File/Folder Management\n",
        "import os\n",
        "import shutil\n",
        "import pathlib\n",
        "\n",
        "## Data Manipulation\n",
        "import pandas as pd\n",
        "import numpy as np\n",
        "\n",
        "## Computer Vision\n",
        "import cv2\n",
        "import matplotlib.pyplot as plt\n",
        "\n",
        "# Tensorflow \n",
        "import tensorflow as tf\n",
        "from tensorflow.keras.layers import Layer,Input,Dense,Flatten,Conv2D,MaxPool2D\n",
        "from tensorflow.keras.models import Model"
      ]
    },
    {
      "cell_type": "markdown",
      "metadata": {
        "id": "Bp1ZRUenGX0v"
      },
      "source": [
        "#### Delete previously generated data to avoid issues"
      ]
    },
    {
      "cell_type": "code",
      "execution_count": 2,
      "metadata": {
        "colab": {
          "base_uri": "https://localhost:8080/"
        },
        "id": "HE5LSLkNUmR2",
        "outputId": "a0f6a9df-adf3-47e9-9cac-026170c76df0"
      },
      "outputs": [
        {
          "name": "stdout",
          "output_type": "stream",
          "text": [
            "rm: cannot remove '/content/Dutch_Training_2011': No such file or directory\n",
            "rm: cannot remove '/content/NISDCC-offline-all-001-051-6g': No such file or directory\n",
            "rm: cannot remove '/content/signatures': No such file or directory\n"
          ]
        }
      ],
      "source": [
        "!rm -r /content/Dutch_Training_2011 /content/NISDCC-offline-all-001-051-6g /content/signatures"
      ]
    },
    {
      "cell_type": "markdown",
      "metadata": {
        "id": "w24UM-jHIa8-"
      },
      "source": [
        "#### Functions for Image Preprocessing"
      ]
    },
    {
      "cell_type": "code",
      "execution_count": 2,
      "metadata": {
        "id": "kLEuH7msbivQ"
      },
      "outputs": [],
      "source": []
    },
    {
      "cell_type": "code",
      "execution_count": 54,
      "metadata": {
        "id": "3pPcVxHYXJMg"
      },
      "outputs": [],
      "source": [
        "INPUT_SHAPE=(100,200)\n",
        "def preprocess_image(image_path:str):\n",
        "  \"\"\"\n",
        "  Preprocess Image\n",
        "\n",
        "  Parameters\n",
        "  -----------\n",
        "  image_path : Image Path (str)\n",
        "  \"\"\"\n",
        "  # Read in image from file path\n",
        "  byte_img = tf.io.read_file(image_path)\n",
        "  # Load in the image \n",
        "  img = tf.io.decode_jpeg(byte_img,1)\n",
        "  \n",
        "  # Preprocessing steps - resizing the image to be 100x100x3\n",
        "  img = tf.image.resize(img, INPUT_SHAPE)\n",
        "  # Scale image to be between 0 and 1 \n",
        "  img = img / 255.0\n",
        "  \n",
        "  # Return image\n",
        "  return img\n"
      ]
    },
    {
      "cell_type": "code",
      "execution_count": 55,
      "metadata": {
        "id": "_Y8ofFgrSOgp"
      },
      "outputs": [],
      "source": [
        "# x=preprocess_image('/content/NISDCC-offline-all-001-051-6g/NISDCC-001_001_001_6g.PNG').numpy()\n",
        "# plt.imshow(x[:,:,0],cmap='binary')\n"
      ]
    },
    {
      "cell_type": "code",
      "execution_count": 56,
      "metadata": {
        "id": "bR93-Ka8I6yw"
      },
      "outputs": [],
      "source": [
        "def preprocess_tuple(anchor_path,val_path,label):\n",
        "  print(type(anchor_path))\n",
        "  \"\"\"\n",
        "  Preprocess Tuple\n",
        "\n",
        "  Parameters\n",
        "  -----------\n",
        "  anchor_path : Anchor Image Path (str)\n",
        "  val_path : Validation Image Path (str)\n",
        "  label : Label (int) 0 or 1\n",
        "  \"\"\"\n",
        "  # print(tf.strings.as_string(anchor_path))\n",
        "  return preprocess_image(anchor_path),preprocess_image(val_path),label"
      ]
    },
    {
      "cell_type": "markdown",
      "metadata": {
        "id": "GYxMPvLZHCNC"
      },
      "source": [
        "#### Overview of our DataFrame\n",
        "The data dataframe has following columns\n",
        "* anchor_images -- Reference signature.\n",
        "* validation_images -- Signature which needs to be validated. It may be forged or original.\n",
        "* labels -- 1 means anchor and validation signatures are same. 0 means the validation signature is forged.\n"
      ]
    },
    {
      "cell_type": "code",
      "execution_count": 57,
      "metadata": {
        "id": "TcGlfVV-LSTz"
      },
      "outputs": [],
      "source": [
        "anchor_images=[]\n",
        "validation_images=[]\n",
        "labels=[]  \n"
      ]
    },
    {
      "cell_type": "markdown",
      "metadata": {
        "id": "9rnOMB6xKy7k"
      },
      "source": [
        "### ICDAR 2009 Signature Verification Competition Dataset"
      ]
    },
    {
      "cell_type": "code",
      "execution_count": 58,
      "metadata": {
        "id": "7R8VX0pMiZuS"
      },
      "outputs": [],
      "source": [
        "folder_name='NISDCC-offline-all-001-051-6g'\n",
        "!rm -r /content/NISDCC-offline-all-001-051-6g\n",
        "!tar -xzf /content/drive/MyDrive/NISDCC-offline-all-001-051-6g.tgz -C /content/"
      ]
    },
    {
      "cell_type": "markdown",
      "metadata": {
        "id": "N8ghhWQPLANA"
      },
      "source": [
        "##### Get all PNG images path"
      ]
    },
    {
      "cell_type": "code",
      "execution_count": 59,
      "metadata": {
        "id": "Lb9aCxoejqKm"
      },
      "outputs": [],
      "source": [
        "data_dir=pathlib.Path(f'/content/{folder_name}')\n",
        "all_images=list(map(str,data_dir.glob('*.PNG')))"
      ]
    },
    {
      "cell_type": "code",
      "execution_count": 60,
      "metadata": {
        "id": "vQo4OBoJngwS"
      },
      "outputs": [],
      "source": [
        "!rm -r /content/signatures\n",
        "!mkdir /content/signatures\n",
        "\n",
        "## Copying all genuine and forged images to appropriate path\n",
        "for image_path in list(all_images):\n",
        "  image_name=(image_path.split('/'))[-1]\n",
        "  simulator=image_name[7:10]\n",
        "  primary=image_name[11:14]\n",
        "  count=image_name[15:18]\n",
        "\n",
        "  if simulator==primary: ##Genuine\n",
        "    if not os.path.exists(f'/content/signatures/{primary}'):\n",
        "      os.mkdir(f'/content/signatures/{primary}')\n",
        "    shutil.copyfile(image_path,f'/content/signatures/{primary}/{count}.PNG')\n",
        "\n",
        "  else:## Forged\n",
        "    if not os.path.exists(f'/content/signatures/{primary}_forg'):\n",
        "      os.mkdir(f'/content/signatures/{primary}_forg')\n",
        "    shutil.copyfile(image_path,f'/content/signatures/{primary}_forg/{simulator}_{count}.PNG')\n"
      ]
    },
    {
      "cell_type": "code",
      "execution_count": 61,
      "metadata": {
        "id": "0R7WT748NxNN"
      },
      "outputs": [],
      "source": [
        "for image_1 in range(len(all_images)):\n",
        "  for image_2 in range(image_1,len(all_images)):\n",
        "      image_name1=(all_images[image_1].split('/'))[-1]\n",
        "      simulator1=image_name1[7:10]\n",
        "      primary1=image_name1[11:14]\n",
        "      count1=image_name1[15:18]\n",
        "\n",
        "      image_name2=(all_images[image_2].split('/'))[-1]\n",
        "      simulator2=image_name2[7:10]\n",
        "      primary2=image_name2[11:14]\n",
        "      count2=image_name2[15:18]\n",
        "\n",
        "      if primary1==primary2: ##same sign origin\n",
        "        if simulator1!=primary1 and simulator2!=primary1: ## Both images are forged\n",
        "          continue\n",
        "        elif simulator1==primary1 and simulator2==primary1: ## Both Signs Original \n",
        "          anchor_images+=[f'/content/signatures/{primary1}/{count1}.PNG']\n",
        "          validation_images+=[f'/content/signatures/{primary2}/{count2}.PNG']\n",
        "          labels+=[1]\n",
        "\n",
        "          anchor_images+=[f'/content/signatures/{primary2}/{count2}.PNG']\n",
        "          validation_images+=[f'/content/signatures/{primary1}/{count1}.PNG']\n",
        "          labels+=[1]\n",
        "\n",
        "        elif simulator1==primary1: ## First True\n",
        "          anchor_images+=[f'/content/signatures/{primary1}/{count1}.PNG']\n",
        "          validation_images+=[f'/content/signatures/{primary2}_forg/{simulator2}_{count2}.PNG']\n",
        "          labels+=[0]\n",
        "        elif simulator2==primary2: ## Second True\n",
        "          anchor_images+=[f'/content/signatures/{primary2}/{count2}.PNG']\n",
        "          validation_images+=[f'/content/signatures/{primary1}_forg/{simulator1}_{count1}.PNG']\n",
        "          labels+=[0]"
      ]
    },
    {
      "cell_type": "markdown",
      "metadata": {
        "id": "rvalYFHvLW2A"
      },
      "source": [
        "# ICDAR 2011 Signature Verification Competition"
      ]
    },
    {
      "cell_type": "code",
      "execution_count": 62,
      "metadata": {
        "colab": {
          "base_uri": "https://localhost:8080/"
        },
        "id": "ltzOHAlhlgzk",
        "outputId": "f044ab60-597c-4bc9-d1dc-11352b473406"
      },
      "outputs": [
        {
          "name": "stdout",
          "output_type": "stream",
          "text": [
            "There are 12 unique signatures in 2009 dataset\n"
          ]
        }
      ],
      "source": [
        "signs_2009=len(list(pathlib.Path('/content/signatures').glob('*')))//2\n",
        "print(f\"There are {signs_2009} unique signatures in 2009 dataset\")"
      ]
    },
    {
      "cell_type": "code",
      "execution_count": 63,
      "metadata": {
        "id": "X-yO5tkuLs1B"
      },
      "outputs": [],
      "source": [
        "!rm -r /content/Dutch_Training_2011\n",
        "!unzip -q /content/drive/MyDrive/Dutch_Training_2011.zip -d /content/Dutch_Training_2011"
      ]
    },
    {
      "cell_type": "code",
      "execution_count": 64,
      "metadata": {
        "id": "nDAfNXTkMfO9"
      },
      "outputs": [],
      "source": [
        "forgeries_2011=pathlib.Path('/content/Dutch_Training_2011/Offline Forgeries').glob('*.png')\n",
        "forgeries_2011=list(map(str,forgeries_2011))\n",
        "\n",
        "genuine_2011=pathlib.Path('/content/Dutch_Training_2011/Offline Genuine').glob('*.PNG')\n",
        "genuine_2011=list(map(str,genuine_2011))"
      ]
    },
    {
      "cell_type": "code",
      "execution_count": 65,
      "metadata": {
        "id": "Q1VJ2-1SNiU7"
      },
      "outputs": [],
      "source": [
        "## Copying all forged images to appropriate path\n",
        "for image_path in list(forgeries_2011):\n",
        "  image_name=(image_path.split('/'))[-1]\n",
        "  forger_id=image_name[:4]\n",
        "  primary=image_name[4:7]\n",
        "  count=image_name[8:10]\n",
        "  index=str(int(primary)+signs_2009)\n",
        "  index='0'*(3-len(index))+str(index)\n",
        "\n",
        "  if not os.path.exists(f'/content/signatures/{index}_forg'):\n",
        "    os.mkdir(f'/content/signatures/{index}_forg')\n",
        "  shutil.copyfile(image_path,f'/content/signatures/{index}_forg/{forger_id}_{count}.PNG')     \n",
        "\n",
        "## Copying all genuine images to appropriate path\n",
        "for image_path in list(genuine_2011):\n",
        "  image_name=(image_path.split('/'))[-1]\n",
        "  primary=image_name[:3]\n",
        "  count=image_name[4:6]\n",
        "  index=str(int(primary)+signs_2009)\n",
        "  index='0'*(3-len(index))+str(index)\n",
        "\n",
        "  if not os.path.exists(f'/content/signatures/{index}'):\n",
        "    os.mkdir(f'/content/signatures/{index}')\n",
        "  shutil.copyfile(image_path,f'/content/signatures/{index}/{count}.PNG')\n",
        "       "
      ]
    },
    {
      "cell_type": "code",
      "execution_count": 65,
      "metadata": {
        "id": "CJ0vqvUQOs3y"
      },
      "outputs": [],
      "source": []
    },
    {
      "cell_type": "code",
      "execution_count": 66,
      "metadata": {
        "id": "3F8mhexEUzAB"
      },
      "outputs": [],
      "source": [
        "## Pairing all Genuine Pairs as anchor and validation images (Cartesian Product ... kinda) \n",
        "for image_1 in range(len(genuine_2011)):\n",
        "  for image_2 in range(image_1,len(genuine_2011)):\n",
        "    image_name1=(genuine_2011[image_1].split('/'))[-1]\n",
        "    primary1=image_name1[:3]\n",
        "    count1=image_name1[4:6]\n",
        "    index1=str(int(primary1)+signs_2009)\n",
        "    index1='0'*(3-len(index1))+str(index1)\n",
        "\n",
        "    image_name2=(genuine_2011[image_2].split('/'))[-1]\n",
        "    primary2=image_name2[:3]\n",
        "    count2=image_name2[4:6]\n",
        "    index2=str(int(primary2)+signs_2009)\n",
        "    index2='0'*(3-len(index2))+str(index2)\n",
        "\n",
        "    if primary1==primary2:\n",
        "      anchor_images+=[f'/content/signatures/{index1}/{count1}.PNG']\n",
        "      validation_images+=[f'/content/signatures/{index2}/{count2}.PNG']\n",
        "      labels+=[1]\n",
        "\n",
        "      anchor_images+=[f'/content/signatures/{index2}/{count2}.PNG']\n",
        "      validation_images+=[f'/content/signatures/{index1}/{count1}.PNG']\n",
        "      labels+=[1]\n",
        "    \n",
        "\n",
        "## Pairing Genuine images with Forged\n",
        "for genuine in range(len(genuine_2011)):\n",
        "  for forged in range(len(forgeries_2011)):\n",
        "    image_name1=(genuine_2011[genuine].split('/'))[-1]\n",
        "    primary1=image_name1[:3]\n",
        "    count1=image_name1[4:6]\n",
        "    index1=str(int(primary1)+signs_2009)\n",
        "    index1='0'*(3-len(index1))+str(index1)\n",
        "    \n",
        "    image_name2=(forgeries_2011[forged].split('/'))[-1]\n",
        "    forger_id2=image_name2[:4]\n",
        "    primary2=image_name2[4:7]\n",
        "    count2=image_name2[8:10]\n",
        "    index2=str(int(primary2)+signs_2009)\n",
        "    index2='0'*(3-len(index2))+str(index2)\n",
        "\n",
        "    if primary1==primary2:\n",
        "      anchor_images+=[f'/content/signatures/{index1}/{count1}.PNG']\n",
        "      validation_images+=[f'/content/signatures/{index2}_forg/{forger_id2}_{count2}.PNG']\n",
        "      labels+=[0]"
      ]
    },
    {
      "cell_type": "code",
      "execution_count": 67,
      "metadata": {
        "id": "FFCjhzRfNXIX"
      },
      "outputs": [],
      "source": [
        "anchor_images=np.array(anchor_images)\n",
        "validation_images=np.array(validation_images)\n",
        "labels=np.array(labels)"
      ]
    },
    {
      "cell_type": "code",
      "execution_count": 68,
      "metadata": {
        "id": "_b39OKfySqk4"
      },
      "outputs": [],
      "source": [
        "df=pd.DataFrame(zip(anchor_images,validation_images,labels),columns=['anchor_images','validation_images','labels'])"
      ]
    },
    {
      "cell_type": "code",
      "execution_count": 69,
      "metadata": {
        "colab": {
          "base_uri": "https://localhost:8080/",
          "height": 424
        },
        "id": "QKp5yd8szY11",
        "outputId": "01e367e8-4451-41ae-eb65-f3da22b7e5a8"
      },
      "outputs": [
        {
          "data": {
            "text/html": [
              "\n",
              "  <div id=\"df-0ec4b7b6-7227-432f-a42b-d9923bc96bc3\">\n",
              "    <div class=\"colab-df-container\">\n",
              "      <div>\n",
              "<style scoped>\n",
              "    .dataframe tbody tr th:only-of-type {\n",
              "        vertical-align: middle;\n",
              "    }\n",
              "\n",
              "    .dataframe tbody tr th {\n",
              "        vertical-align: top;\n",
              "    }\n",
              "\n",
              "    .dataframe thead th {\n",
              "        text-align: right;\n",
              "    }\n",
              "</style>\n",
              "<table border=\"1\" class=\"dataframe\">\n",
              "  <thead>\n",
              "    <tr style=\"text-align: right;\">\n",
              "      <th></th>\n",
              "      <th>anchor_images</th>\n",
              "      <th>validation_images</th>\n",
              "      <th>labels</th>\n",
              "    </tr>\n",
              "  </thead>\n",
              "  <tbody>\n",
              "    <tr>\n",
              "      <th>0</th>\n",
              "      <td>/content/signatures/009/005.PNG</td>\n",
              "      <td>/content/signatures/009_forg/037_003.PNG</td>\n",
              "      <td>0</td>\n",
              "    </tr>\n",
              "    <tr>\n",
              "      <th>1</th>\n",
              "      <td>/content/signatures/009/001.PNG</td>\n",
              "      <td>/content/signatures/009_forg/037_003.PNG</td>\n",
              "      <td>0</td>\n",
              "    </tr>\n",
              "    <tr>\n",
              "      <th>2</th>\n",
              "      <td>/content/signatures/009/002.PNG</td>\n",
              "      <td>/content/signatures/009_forg/037_003.PNG</td>\n",
              "      <td>0</td>\n",
              "    </tr>\n",
              "    <tr>\n",
              "      <th>3</th>\n",
              "      <td>/content/signatures/009/004.PNG</td>\n",
              "      <td>/content/signatures/009_forg/037_003.PNG</td>\n",
              "      <td>0</td>\n",
              "    </tr>\n",
              "    <tr>\n",
              "      <th>4</th>\n",
              "      <td>/content/signatures/009/003.PNG</td>\n",
              "      <td>/content/signatures/009_forg/037_003.PNG</td>\n",
              "      <td>0</td>\n",
              "    </tr>\n",
              "    <tr>\n",
              "      <th>...</th>\n",
              "      <td>...</td>\n",
              "      <td>...</td>\n",
              "      <td>...</td>\n",
              "    </tr>\n",
              "    <tr>\n",
              "      <th>17513</th>\n",
              "      <td>/content/signatures/027/15.PNG</td>\n",
              "      <td>/content/signatures/027_forg/0213_01.PNG</td>\n",
              "      <td>0</td>\n",
              "    </tr>\n",
              "    <tr>\n",
              "      <th>17514</th>\n",
              "      <td>/content/signatures/027/15.PNG</td>\n",
              "      <td>/content/signatures/027_forg/0213_04.PNG</td>\n",
              "      <td>0</td>\n",
              "    </tr>\n",
              "    <tr>\n",
              "      <th>17515</th>\n",
              "      <td>/content/signatures/027/15.PNG</td>\n",
              "      <td>/content/signatures/027_forg/0106_03.PNG</td>\n",
              "      <td>0</td>\n",
              "    </tr>\n",
              "    <tr>\n",
              "      <th>17516</th>\n",
              "      <td>/content/signatures/027/15.PNG</td>\n",
              "      <td>/content/signatures/027_forg/0210_04.PNG</td>\n",
              "      <td>0</td>\n",
              "    </tr>\n",
              "    <tr>\n",
              "      <th>17517</th>\n",
              "      <td>/content/signatures/027/15.PNG</td>\n",
              "      <td>/content/signatures/027_forg/0210_03.PNG</td>\n",
              "      <td>0</td>\n",
              "    </tr>\n",
              "  </tbody>\n",
              "</table>\n",
              "<p>17518 rows × 3 columns</p>\n",
              "</div>\n",
              "      <button class=\"colab-df-convert\" onclick=\"convertToInteractive('df-0ec4b7b6-7227-432f-a42b-d9923bc96bc3')\"\n",
              "              title=\"Convert this dataframe to an interactive table.\"\n",
              "              style=\"display:none;\">\n",
              "        \n",
              "  <svg xmlns=\"http://www.w3.org/2000/svg\" height=\"24px\"viewBox=\"0 0 24 24\"\n",
              "       width=\"24px\">\n",
              "    <path d=\"M0 0h24v24H0V0z\" fill=\"none\"/>\n",
              "    <path d=\"M18.56 5.44l.94 2.06.94-2.06 2.06-.94-2.06-.94-.94-2.06-.94 2.06-2.06.94zm-11 1L8.5 8.5l.94-2.06 2.06-.94-2.06-.94L8.5 2.5l-.94 2.06-2.06.94zm10 10l.94 2.06.94-2.06 2.06-.94-2.06-.94-.94-2.06-.94 2.06-2.06.94z\"/><path d=\"M17.41 7.96l-1.37-1.37c-.4-.4-.92-.59-1.43-.59-.52 0-1.04.2-1.43.59L10.3 9.45l-7.72 7.72c-.78.78-.78 2.05 0 2.83L4 21.41c.39.39.9.59 1.41.59.51 0 1.02-.2 1.41-.59l7.78-7.78 2.81-2.81c.8-.78.8-2.07 0-2.86zM5.41 20L4 18.59l7.72-7.72 1.47 1.35L5.41 20z\"/>\n",
              "  </svg>\n",
              "      </button>\n",
              "      \n",
              "  <style>\n",
              "    .colab-df-container {\n",
              "      display:flex;\n",
              "      flex-wrap:wrap;\n",
              "      gap: 12px;\n",
              "    }\n",
              "\n",
              "    .colab-df-convert {\n",
              "      background-color: #E8F0FE;\n",
              "      border: none;\n",
              "      border-radius: 50%;\n",
              "      cursor: pointer;\n",
              "      display: none;\n",
              "      fill: #1967D2;\n",
              "      height: 32px;\n",
              "      padding: 0 0 0 0;\n",
              "      width: 32px;\n",
              "    }\n",
              "\n",
              "    .colab-df-convert:hover {\n",
              "      background-color: #E2EBFA;\n",
              "      box-shadow: 0px 1px 2px rgba(60, 64, 67, 0.3), 0px 1px 3px 1px rgba(60, 64, 67, 0.15);\n",
              "      fill: #174EA6;\n",
              "    }\n",
              "\n",
              "    [theme=dark] .colab-df-convert {\n",
              "      background-color: #3B4455;\n",
              "      fill: #D2E3FC;\n",
              "    }\n",
              "\n",
              "    [theme=dark] .colab-df-convert:hover {\n",
              "      background-color: #434B5C;\n",
              "      box-shadow: 0px 1px 3px 1px rgba(0, 0, 0, 0.15);\n",
              "      filter: drop-shadow(0px 1px 2px rgba(0, 0, 0, 0.3));\n",
              "      fill: #FFFFFF;\n",
              "    }\n",
              "  </style>\n",
              "\n",
              "      <script>\n",
              "        const buttonEl =\n",
              "          document.querySelector('#df-0ec4b7b6-7227-432f-a42b-d9923bc96bc3 button.colab-df-convert');\n",
              "        buttonEl.style.display =\n",
              "          google.colab.kernel.accessAllowed ? 'block' : 'none';\n",
              "\n",
              "        async function convertToInteractive(key) {\n",
              "          const element = document.querySelector('#df-0ec4b7b6-7227-432f-a42b-d9923bc96bc3');\n",
              "          const dataTable =\n",
              "            await google.colab.kernel.invokeFunction('convertToInteractive',\n",
              "                                                     [key], {});\n",
              "          if (!dataTable) return;\n",
              "\n",
              "          const docLinkHtml = 'Like what you see? Visit the ' +\n",
              "            '<a target=\"_blank\" href=https://colab.research.google.com/notebooks/data_table.ipynb>data table notebook</a>'\n",
              "            + ' to learn more about interactive tables.';\n",
              "          element.innerHTML = '';\n",
              "          dataTable['output_type'] = 'display_data';\n",
              "          await google.colab.output.renderOutput(dataTable, element);\n",
              "          const docLink = document.createElement('div');\n",
              "          docLink.innerHTML = docLinkHtml;\n",
              "          element.appendChild(docLink);\n",
              "        }\n",
              "      </script>\n",
              "    </div>\n",
              "  </div>\n",
              "  "
            ],
            "text/plain": [
              "                         anchor_images  \\\n",
              "0      /content/signatures/009/005.PNG   \n",
              "1      /content/signatures/009/001.PNG   \n",
              "2      /content/signatures/009/002.PNG   \n",
              "3      /content/signatures/009/004.PNG   \n",
              "4      /content/signatures/009/003.PNG   \n",
              "...                                ...   \n",
              "17513   /content/signatures/027/15.PNG   \n",
              "17514   /content/signatures/027/15.PNG   \n",
              "17515   /content/signatures/027/15.PNG   \n",
              "17516   /content/signatures/027/15.PNG   \n",
              "17517   /content/signatures/027/15.PNG   \n",
              "\n",
              "                              validation_images  labels  \n",
              "0      /content/signatures/009_forg/037_003.PNG       0  \n",
              "1      /content/signatures/009_forg/037_003.PNG       0  \n",
              "2      /content/signatures/009_forg/037_003.PNG       0  \n",
              "3      /content/signatures/009_forg/037_003.PNG       0  \n",
              "4      /content/signatures/009_forg/037_003.PNG       0  \n",
              "...                                         ...     ...  \n",
              "17513  /content/signatures/027_forg/0213_01.PNG       0  \n",
              "17514  /content/signatures/027_forg/0213_04.PNG       0  \n",
              "17515  /content/signatures/027_forg/0106_03.PNG       0  \n",
              "17516  /content/signatures/027_forg/0210_04.PNG       0  \n",
              "17517  /content/signatures/027_forg/0210_03.PNG       0  \n",
              "\n",
              "[17518 rows x 3 columns]"
            ]
          },
          "execution_count": 69,
          "metadata": {},
          "output_type": "execute_result"
        }
      ],
      "source": [
        "df"
      ]
    },
    {
      "cell_type": "code",
      "execution_count": 70,
      "metadata": {
        "colab": {
          "base_uri": "https://localhost:8080/"
        },
        "id": "TR8KMBMxjVkU",
        "outputId": "ebd57d29-a8e5-41f9-bc1b-8e078c73a9a7"
      },
      "outputs": [
        {
          "data": {
            "text/plain": [
              "0    11758\n",
              "1     5760\n",
              "Name: labels, dtype: int64"
            ]
          },
          "execution_count": 70,
          "metadata": {},
          "output_type": "execute_result"
        }
      ],
      "source": [
        "df['labels'].value_counts()"
      ]
    },
    {
      "cell_type": "markdown",
      "metadata": {
        "id": "SL2PoQd-1XpH"
      },
      "source": [
        "This is a highly imbalanced dataset. We will use Focal Loss to deal with imbalance."
      ]
    },
    {
      "cell_type": "code",
      "execution_count": 71,
      "metadata": {
        "id": "DAoQhMWBOZrL"
      },
      "outputs": [],
      "source": [
        "data=tf.data.Dataset.from_tensor_slices((df['anchor_images'].values,df['validation_images'].values,df['labels'].values))"
      ]
    },
    {
      "cell_type": "code",
      "execution_count": 72,
      "metadata": {
        "colab": {
          "base_uri": "https://localhost:8080/"
        },
        "id": "08r77zURxuj2",
        "outputId": "aec42b86-e65a-4e8d-d40b-f6cef522e35b"
      },
      "outputs": [
        {
          "name": "stdout",
          "output_type": "stream",
          "text": [
            "17518\n"
          ]
        },
        {
          "data": {
            "text/plain": [
              "<TensorSliceDataset element_spec=(TensorSpec(shape=(), dtype=tf.string, name=None), TensorSpec(shape=(), dtype=tf.string, name=None), TensorSpec(shape=(), dtype=tf.int64, name=None))>"
            ]
          },
          "execution_count": 72,
          "metadata": {},
          "output_type": "execute_result"
        }
      ],
      "source": [
        "print(len(data))\n",
        "data"
      ]
    },
    {
      "cell_type": "markdown",
      "metadata": {
        "id": "4rs2mr6rMaXu"
      },
      "source": [
        "### Mapping Preprocessing function to pipeline. \n",
        "### Extracting only a few (to avoid GPU bottleneck), shuffling, batching and prefetching the data pipeline \n",
        "### Splitting dataset to train and test set"
      ]
    },
    {
      "cell_type": "code",
      "execution_count": 73,
      "metadata": {
        "colab": {
          "base_uri": "https://localhost:8080/"
        },
        "id": "yFZGNM3EK5dv",
        "outputId": "b7574374-1332-4370-8307-9e83292068f7"
      },
      "outputs": [
        {
          "name": "stdout",
          "output_type": "stream",
          "text": [
            "<class 'tensorflow.python.framework.ops.Tensor'>\n"
          ]
        }
      ],
      "source": [
        "data = data.map(preprocess_tuple)\n",
        "data = data.shuffle(buffer_size=1024)\n",
        "# data=data.take(6000)\n",
        "train_data = data.take(round(len(data)*.7))\n",
        "train_data = train_data.batch(16)\n",
        "train_data = train_data.prefetch(8)\n",
        "\n",
        "test_data = data.skip(round(len(data)*.7))\n",
        "test_data = test_data.take(round(len(data)*.3))\n",
        "test_data = test_data.batch(16)\n",
        "test_data = test_data.prefetch(8)"
      ]
    },
    {
      "cell_type": "markdown",
      "metadata": {
        "id": "DWda8PMU50Ef"
      },
      "source": [
        "# Building Siamese Neural Network"
      ]
    },
    {
      "cell_type": "markdown",
      "metadata": {
        "id": "YFwMlMxlVaAA"
      },
      "source": [
        "# Make Embedding Layer"
      ]
    },
    {
      "cell_type": "code",
      "execution_count": 29,
      "metadata": {
        "id": "IdaCazVz7aN_"
      },
      "outputs": [],
      "source": [
        "## Make Embedding Model \n",
        "def make_embedding():\n",
        "\n",
        "  inp=Input(shape=(*INPUT_SHAPE,1),name='input_layer') ## Input Layer\n",
        "  \n",
        "  conv1=Conv2D(64,(10,10),activation='relu')(inp) \n",
        "  maxp1=MaxPool2D(64,(2,2),padding='same')(conv1)\n",
        "\n",
        "  conv2=Conv2D(128,(7,7),activation='relu')(maxp1)\n",
        "  maxp2=MaxPool2D(64,(2,2),padding='same')(conv2)\n",
        "\n",
        "  conv3=Conv2D(128,(4,4),activation='relu')(maxp2)\n",
        "  maxp3=MaxPool2D(64,(2,2),padding='same')(conv3)\n",
        "\n",
        "  conv4=Conv2D(256,(4,4),activation='relu')(maxp3)\n",
        "  flatten1=Flatten()(conv4)\n",
        "\n",
        "  dense1 = Dense(4096,activation='sigmoid')(flatten1)\n",
        "  model= Model(inputs=[inp],outputs=[dense1],name='embedding_model')\n",
        "  print(model.summary())\n",
        "  return model"
      ]
    },
    {
      "cell_type": "code",
      "execution_count": 30,
      "metadata": {
        "colab": {
          "base_uri": "https://localhost:8080/"
        },
        "id": "N2AmseVv92kv",
        "outputId": "083af0e4-d351-4886-e995-fd621bd61677"
      },
      "outputs": [
        {
          "name": "stdout",
          "output_type": "stream",
          "text": [
            "Model: \"embedding_model\"\n",
            "_________________________________________________________________\n",
            " Layer (type)                Output Shape              Param #   \n",
            "=================================================================\n",
            " input_layer (InputLayer)    [(None, 100, 200, 1)]     0         \n",
            "                                                                 \n",
            " conv2d (Conv2D)             (None, 91, 191, 64)       6464      \n",
            "                                                                 \n",
            " max_pooling2d (MaxPooling2D  (None, 46, 96, 64)       0         \n",
            " )                                                               \n",
            "                                                                 \n",
            " conv2d_1 (Conv2D)           (None, 40, 90, 128)       401536    \n",
            "                                                                 \n",
            " max_pooling2d_1 (MaxPooling  (None, 20, 45, 128)      0         \n",
            " 2D)                                                             \n",
            "                                                                 \n",
            " conv2d_2 (Conv2D)           (None, 17, 42, 128)       262272    \n",
            "                                                                 \n",
            " max_pooling2d_2 (MaxPooling  (None, 9, 21, 128)       0         \n",
            " 2D)                                                             \n",
            "                                                                 \n",
            " conv2d_3 (Conv2D)           (None, 6, 18, 256)        524544    \n",
            "                                                                 \n",
            " flatten (Flatten)           (None, 27648)             0         \n",
            "                                                                 \n",
            " dense (Dense)               (None, 4096)              113250304 \n",
            "                                                                 \n",
            "=================================================================\n",
            "Total params: 114,445,120\n",
            "Trainable params: 114,445,120\n",
            "Non-trainable params: 0\n",
            "_________________________________________________________________\n",
            "None\n"
          ]
        }
      ],
      "source": [
        "embedding = make_embedding()"
      ]
    },
    {
      "cell_type": "markdown",
      "metadata": {
        "id": "0K87UkX5-FTp"
      },
      "source": [
        "# Build Siamese Distance Layer"
      ]
    },
    {
      "cell_type": "code",
      "execution_count": 31,
      "metadata": {
        "id": "PJYxoogX96ZV"
      },
      "outputs": [],
      "source": [
        "## Siamese Distance class\n",
        "class L1Dist(Layer):\n",
        "  def __init__(self,**kwargs):\n",
        "    super().__init__()\n",
        "  \n",
        "  def call(self,input_embedding,validation_embedding):\n",
        "    return tf.math.abs(input_embedding-validation_embedding)"
      ]
    },
    {
      "cell_type": "code",
      "execution_count": 32,
      "metadata": {
        "id": "mO5a9YYa_yMI"
      },
      "outputs": [],
      "source": [
        "l1=L1Dist()"
      ]
    },
    {
      "cell_type": "markdown",
      "metadata": {
        "id": "G-Va5wQzAZcM"
      },
      "source": [
        "# Make Siamese Model"
      ]
    },
    {
      "cell_type": "code",
      "execution_count": 33,
      "metadata": {
        "id": "gFHn2BgaASsd"
      },
      "outputs": [],
      "source": [
        "## Creating two input streams of anchor and positive/negative image\n",
        "input_image = Input(name='input_img', shape=(*INPUT_SHAPE,1))\n",
        "validation_image = Input(name='validation_img', shape=(*INPUT_SHAPE,1))\n",
        "\n",
        "## Embedding the images\n",
        "inp_embedding = embedding(input_image)\n",
        "val_embedding = embedding(validation_image)"
      ]
    },
    {
      "cell_type": "code",
      "execution_count": 34,
      "metadata": {
        "id": "78ogmeogBOzy"
      },
      "outputs": [],
      "source": [
        "siamese_layer = L1Dist()\n",
        "distances = siamese_layer(inp_embedding, val_embedding)\n",
        "classifier = Dense(1, activation='sigmoid')(distances)\n",
        "siamese_network = Model(inputs=[input_image, validation_image], outputs=classifier, name='SiameseNetwork')"
      ]
    },
    {
      "cell_type": "code",
      "execution_count": 35,
      "metadata": {
        "colab": {
          "base_uri": "https://localhost:8080/"
        },
        "id": "Mz1n-AS5BplR",
        "outputId": "0472e7a1-c117-467c-f859-e50e93c881e3"
      },
      "outputs": [
        {
          "name": "stdout",
          "output_type": "stream",
          "text": [
            "Model: \"SiameseNetwork\"\n",
            "__________________________________________________________________________________________________\n",
            " Layer (type)                   Output Shape         Param #     Connected to                     \n",
            "==================================================================================================\n",
            " input_img (InputLayer)         [(None, 100, 200, 1  0           []                               \n",
            "                                )]                                                                \n",
            "                                                                                                  \n",
            " validation_img (InputLayer)    [(None, 100, 200, 1  0           []                               \n",
            "                                )]                                                                \n",
            "                                                                                                  \n",
            " embedding_model (Functional)   (None, 4096)         114445120   ['input_img[0][0]',              \n",
            "                                                                  'validation_img[0][0]']         \n",
            "                                                                                                  \n",
            " l1_dist_1 (L1Dist)             (None, 4096)         0           ['embedding_model[0][0]',        \n",
            "                                                                  'embedding_model[1][0]']        \n",
            "                                                                                                  \n",
            " dense_1 (Dense)                (None, 1)            4097        ['l1_dist_1[0][0]']              \n",
            "                                                                                                  \n",
            "==================================================================================================\n",
            "Total params: 114,449,217\n",
            "Trainable params: 114,449,217\n",
            "Non-trainable params: 0\n",
            "__________________________________________________________________________________________________\n"
          ]
        }
      ],
      "source": [
        "siamese_network.summary()"
      ]
    },
    {
      "cell_type": "code",
      "execution_count": 36,
      "metadata": {
        "id": "b8bJJzePBsUz"
      },
      "outputs": [],
      "source": [
        "def make_siamese_model():\n",
        "  input_image=Input(name='input_layer',shape=(*INPUT_SHAPE,1))\n",
        "  \n",
        "  validation_image=Input(name='val_layer',shape=(*INPUT_SHAPE,1))\n",
        "  \n",
        "  siamese_layer=L1Dist()\n",
        "  siamese_layer._name='distance'\n",
        "  distances=siamese_layer(embedding(input_image),embedding(validation_image))\n",
        "\n",
        "  classifier=Dense(1,activation='sigmoid')(distances)\n",
        "\n",
        "  return Model(inputs=[input_image,validation_image],outputs=classifier,name='SiameseNetwo')"
      ]
    },
    {
      "cell_type": "code",
      "execution_count": 37,
      "metadata": {
        "id": "pU9Vrn_LDkRS"
      },
      "outputs": [],
      "source": [
        "siamese_model = make_siamese_model()"
      ]
    },
    {
      "cell_type": "code",
      "execution_count": 38,
      "metadata": {
        "colab": {
          "base_uri": "https://localhost:8080/"
        },
        "id": "J8naiqdADl4K",
        "outputId": "956d697f-df18-4772-cebb-9948387fbe35"
      },
      "outputs": [
        {
          "name": "stdout",
          "output_type": "stream",
          "text": [
            "Model: \"SiameseNetwo\"\n",
            "__________________________________________________________________________________________________\n",
            " Layer (type)                   Output Shape         Param #     Connected to                     \n",
            "==================================================================================================\n",
            " input_layer (InputLayer)       [(None, 100, 200, 1  0           []                               \n",
            "                                )]                                                                \n",
            "                                                                                                  \n",
            " val_layer (InputLayer)         [(None, 100, 200, 1  0           []                               \n",
            "                                )]                                                                \n",
            "                                                                                                  \n",
            " embedding_model (Functional)   (None, 4096)         114445120   ['input_layer[0][0]',            \n",
            "                                                                  'val_layer[0][0]']              \n",
            "                                                                                                  \n",
            " distance (L1Dist)              (None, 4096)         0           ['embedding_model[2][0]',        \n",
            "                                                                  'embedding_model[3][0]']        \n",
            "                                                                                                  \n",
            " dense_2 (Dense)                (None, 1)            4097        ['distance[0][0]']               \n",
            "                                                                                                  \n",
            "==================================================================================================\n",
            "Total params: 114,449,217\n",
            "Trainable params: 114,449,217\n",
            "Non-trainable params: 0\n",
            "__________________________________________________________________________________________________\n"
          ]
        }
      ],
      "source": [
        "siamese_model.summary()"
      ]
    },
    {
      "cell_type": "markdown",
      "metadata": {
        "id": "VPLz8o3iNSNz"
      },
      "source": [
        "#### Plotting the entire Siamese network"
      ]
    },
    {
      "cell_type": "code",
      "execution_count": 39,
      "metadata": {
        "colab": {
          "base_uri": "https://localhost:8080/",
          "height": 422
        },
        "id": "HBVU7zOTZus3",
        "outputId": "b5169d27-76fa-4b52-d9fb-4fc6b0997bfe"
      },
      "outputs": [
        {
          "data": {
            "image/png": "[encoded data removed]",
            "text/plain": [
              "<IPython.core.display.Image object>"
            ]
          },
          "execution_count": 39,
          "metadata": {},
          "output_type": "execute_result"
        }
      ],
      "source": [
        "tf.keras.utils.plot_model(siamese_model, to_file='model_plot.png', show_shapes=True, show_layer_names=True)"
      ]
    },
    {
      "cell_type": "markdown",
      "metadata": {
        "id": "zoNaajcUWmLm"
      },
      "source": [
        "## Train a Siamese Network"
      ]
    },
    {
      "cell_type": "markdown",
      "metadata": {
        "id": "6ej-w_1eXOOO"
      },
      "source": [
        "Loss Function and Optimizer"
      ]
    },
    {
      "cell_type": "code",
      "execution_count": 42,
      "metadata": {
        "id": "hXMvgADODt17"
      },
      "outputs": [],
      "source": [
        "binary_focal_loss=tf.keras.losses.BinaryFocalCrossentropy()\n",
        "\n",
        "optimizer=tf.optimizers.Adam(1e-4)"
      ]
    },
    {
      "cell_type": "markdown",
      "metadata": {
        "id": "bZgKesZNXrW_"
      },
      "source": [
        "Checkpoints"
      ]
    },
    {
      "cell_type": "code",
      "execution_count": 43,
      "metadata": {
        "id": "LikWRxsXXj7x"
      },
      "outputs": [],
      "source": [
        "checkpoint_dir='./training_checkpoints'\n",
        "checkpoint_prefix=os.path.join(checkpoint_dir,'ckpt')\n",
        "checkpoint=tf.train.Checkpoint(optimizer=optimizer,siamese_model=siamese_model)"
      ]
    },
    {
      "cell_type": "markdown",
      "metadata": {
        "id": "wZi9R0fLqXLv"
      },
      "source": [
        "Train Step"
      ]
    },
    {
      "cell_type": "code",
      "execution_count": 44,
      "metadata": {
        "id": "RPHwCFrRC_5P"
      },
      "outputs": [],
      "source": [
        "@tf.function\n",
        "def train_step(batch):\n",
        "    \n",
        "    # Record all of our operations \n",
        "    with tf.GradientTape() as tape:     \n",
        "        # Get anchor and positive/negative image\n",
        "        X = batch[:2]\n",
        "        # Get label\n",
        "        y = batch[2]\n",
        "        \n",
        "        # Forward pass\n",
        "        yhat = siamese_model(X, training=True)\n",
        "        # Calculate loss\n",
        "        loss = binary_focal_loss(y, yhat)\n",
        "    print(loss)\n",
        "        \n",
        "    # Calculate gradients\n",
        "    grad = tape.gradient(loss, siamese_model.trainable_variables)\n",
        "    \n",
        "    # Calculate updated weights and apply to siamese model\n",
        "    optimizer.apply_gradients(zip(grad, siamese_model.trainable_variables))\n",
        "    \n",
        "    # Return loss\n",
        "    return loss"
      ]
    },
    {
      "cell_type": "markdown",
      "metadata": {
        "id": "9mvkZAIoqbTl"
      },
      "source": [
        "Train Loop"
      ]
    },
    {
      "cell_type": "code",
      "execution_count": 45,
      "metadata": {
        "id": "MqosxIXkEaPN"
      },
      "outputs": [],
      "source": [
        "def train(data, EPOCHS):\n",
        "    # Loop through epochs\n",
        "    for epoch in range(1, EPOCHS+1):\n",
        "        print('\\n Epoch {}/{}'.format(epoch, EPOCHS))\n",
        "        # print(len(data))\n",
        "        progbar = tf.keras.utils.Progbar(len(data))\n",
        "        \n",
        "        # Loop through each batch\n",
        "        for idx, batch in enumerate(data):\n",
        "            # Run train step here\n",
        "            # print('b',len(batch))\n",
        "            train_step(batch)\n",
        "            progbar.update(idx+1)\n",
        "        \n",
        "        # Save checkpoints\n",
        "        if epoch % 10 == 0: \n",
        "            checkpoint.save(file_prefix=checkpoint_prefix)"
      ]
    },
    {
      "cell_type": "code",
      "execution_count": 46,
      "metadata": {
        "id": "W1WA3FrKKr8E"
      },
      "outputs": [],
      "source": [
        "EPOCHS = 50"
      ]
    },
    {
      "cell_type": "code",
      "execution_count": null,
      "metadata": {
        "id": "4ZK0SATFMxk7"
      },
      "outputs": [],
      "source": [
        "train(train_data, EPOCHS)"
      ]
    },
    {
      "cell_type": "code",
      "execution_count": null,
      "metadata": {
        "id": "sbYavtRSbG-o"
      },
      "outputs": [],
      "source": [
        "siamese_model.save('siamesemodelfocal.h5')"
      ]
    },
    {
      "cell_type": "code",
      "execution_count": null,
      "metadata": {
        "id": "4FpBun0FbLtX"
      },
      "outputs": [],
      "source": [
        "siamese_model.save('/content/drive/MyDrive/siamesemodelfocal.h5')"
      ]
    },
    {
      "cell_type": "code",
      "execution_count": 47,
      "metadata": {
        "colab": {
          "base_uri": "https://localhost:8080/"
        },
        "id": "nC2kAVu1i9Mz",
        "outputId": "61dc5a7d-30fb-403f-ef64-d5a8e5dec78d"
      },
      "outputs": [
        {
          "name": "stderr",
          "output_type": "stream",
          "text": [
            "WARNING:tensorflow:No training configuration found in the save file, so the model was *not* compiled. Compile it manually.\n"
          ]
        }
      ],
      "source": [
        "siamese_model=tf.keras.models.load_model('/content/drive/MyDrive/siamesemodelfocal.h5',\n",
        "                                         custom_objects={'L1Dist':L1Dist, 'BinaryFocalCrossentropy':tf.keras.losses.BinaryFocalCrossentropy})"
      ]
    },
    {
      "cell_type": "code",
      "execution_count": 48,
      "metadata": {
        "colab": {
          "base_uri": "https://localhost:8080/"
        },
        "id": "qE85-Qvbir43",
        "outputId": "c3888cb1-9161-4d3a-adfd-441f386b8a24"
      },
      "outputs": [
        {
          "data": {
            "text/plain": [
              "<keras.engine.functional.Functional at 0x7fc6704f7e10>"
            ]
          },
          "execution_count": 48,
          "metadata": {},
          "output_type": "execute_result"
        }
      ],
      "source": [
        "siamese_model"
      ]
    },
    {
      "cell_type": "markdown",
      "metadata": {
        "id": "CJ3A0KUbhP7q"
      },
      "source": [
        "## Model Evaluation"
      ]
    },
    {
      "cell_type": "code",
      "execution_count": 78,
      "metadata": {
        "id": "EwzS1FcNryx0"
      },
      "outputs": [],
      "source": [
        "# Import metric calculations\n",
        "from tensorflow.keras.metrics import Precision, Recall"
      ]
    },
    {
      "cell_type": "code",
      "execution_count": 79,
      "metadata": {
        "id": "6tR4V6k0s1Z-"
      },
      "outputs": [],
      "source": [
        "# Get a batch of test data\n",
        "test_input, test_val, y_true = test_data.as_numpy_iterator().next()"
      ]
    },
    {
      "cell_type": "code",
      "execution_count": 80,
      "metadata": {
        "colab": {
          "base_uri": "https://localhost:8080/"
        },
        "id": "8fUFrx4Mkn5O",
        "outputId": "fa464f66-13af-4612-d8c2-b36c96bc18bb"
      },
      "outputs": [
        {
          "name": "stderr",
          "output_type": "stream",
          "text": [
            "WARNING:tensorflow:No training configuration found in the save file, so the model was *not* compiled. Compile it manually.\n"
          ]
        }
      ],
      "source": [
        "siamese_model=tf.keras.models.load_model('/content/drive/MyDrive/siamesemodelfocal.h5',\n",
        "                                         custom_objects={'L1Dist':L1Dist, 'BinaryFocalCrossentropy':tf.keras.losses.BinaryFocalCrossentropy})\n",
        "def evaluate(data):\n",
        "    y_true=[]\n",
        "    y_hat=[]\n",
        "    # Loop through each batch\n",
        "    for idx, batch in enumerate(data):\n",
        "        # print('b',len(batch))\n",
        "        # print(batch)\n",
        "        y_true+=[i for i in batch[2]]\n",
        "        y_hat += [1 if i>0.5 else 0 for i in siamese_model.predict([batch[0], batch[1]])]\n",
        "        # print(y_true)\n",
        "        # print(y_hat)\n",
        "        # print('----')\n",
        "    # Creating a metric object \n",
        "    precision = Precision()\n",
        "    precision.update_state(y_true, y_hat)\n",
        "    recall = Recall()\n",
        "    recall.update_state(y_true, y_hat)\n",
        "\n",
        "    return precision.result().numpy(),recall.result().numpy()\n"
      ]
    }
  ],
  "metadata": {
    "accelerator": "GPU",
    "colab": {
      "collapsed_sections": [],
      "provenance": []
    },
    "gpuClass": "standard",
    "kernelspec": {
      "display_name": "Python 3.9.12 ('base')",
      "language": "python",
      "name": "python3"
    },
    "language_info": {
      "name": "python",
      "version": "3.9.12"
    },
    "vscode": {
      "interpreter": {
        "hash": "9dbf8f4c165eb0b71c72ee397a4a34a0cbf4814bae4fb3ea460f3ccc58581f59"
      }
    }
  },
  "nbformat": 4,
  "nbformat_minor": 0
}
